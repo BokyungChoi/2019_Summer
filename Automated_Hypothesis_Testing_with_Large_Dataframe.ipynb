{
  "nbformat": 4,
  "nbformat_minor": 0,
  "metadata": {
    "colab": {
      "name": "Automated Hypothesis Testing with Large Dataframe",
      "version": "0.3.2",
      "provenance": [],
      "collapsed_sections": [
        "dnK-2bRN_CRB",
        "x8Xn_vq-1rX-",
        "RVIQlUYzPjqH",
        "6_UuYDDB8qbF",
        "rK5Gemk7q_vn",
        "KdH-1bWXqf2A",
        "Nqm05LvW9Gfv",
        "_yNnhCyEcZgd",
        "7ryFDGNSUTcX",
        "_5m2svJgkKen",
        "bVZupbEWkN_1",
        "8sjvQHWB-Pjc",
        "_9buQxOMsHrH",
        "80cLtT6nsHrS",
        "8Nvv9TKarmD1",
        "I_3ORnTLU1t5",
        "_JDJ3XlrI5zH",
        "GNfqKBZ7KCEH"
      ],
      "include_colab_link": true
    },
    "kernelspec": {
      "name": "python3",
      "display_name": "Python 3"
    },
    "accelerator": "GPU"
  },
  "cells": [
    {
      "cell_type": "markdown",
      "metadata": {
        "id": "view-in-github",
        "colab_type": "text"
      },
      "source": [
        "<a href=\"https://colab.research.google.com/github/BokyungChoi/2019_Summer/blob/master/Automated_Hypothesis_Testing_with_Large_Dataframe.ipynb\" target=\"_parent\"><img src=\"https://colab.research.google.com/assets/colab-badge.svg\" alt=\"Open In Colab\"/></a>"
      ]
    },
    {
      "cell_type": "markdown",
      "metadata": {
        "id": "dnK-2bRN_CRB",
        "colab_type": "text"
      },
      "source": [
        "# Setups"
      ]
    },
    {
      "cell_type": "markdown",
      "metadata": {
        "id": "x8Xn_vq-1rX-",
        "colab_type": "text"
      },
      "source": [
        "## Base setups"
      ]
    },
    {
      "cell_type": "code",
      "metadata": {
        "id": "sCSor2gRzgKV",
        "colab_type": "code",
        "colab": {}
      },
      "source": [
        "import sys\n",
        "import os\n",
        "import re\n",
        "import gc\n",
        "import time\n",
        "import math\n",
        "import json\n",
        "import base64\n",
        "import datetime\n",
        "import itertools\n",
        "\n",
        "import pandas as pd\n",
        "import numpy as np\n",
        "from functools import reduce\n",
        "\n",
        "import matplotlib.pyplot as plt\n",
        "import seaborn as sns\n",
        "\n",
        "# setups only for colabotory usage\n",
        "from google.cloud import bigquery\n",
        "from google.colab import auth\n",
        "auth.authenticate_user()\n",
        "# from google.oauth2 import service_account # for service account"
      ],
      "execution_count": 0,
      "outputs": []
    },
    {
      "cell_type": "code",
      "metadata": {
        "id": "00qsJpqS1Mcc",
        "colab_type": "code",
        "colab": {}
      },
      "source": [
        "# for bigquery connection\n",
        "project_id = 'type in your bigquery project id'\n",
        "client=bigquery.Client(project_id)"
      ],
      "execution_count": 0,
      "outputs": []
    },
    {
      "cell_type": "code",
      "metadata": {
        "id": "FHBKtueMZrSO",
        "colab_type": "code",
        "outputId": "0a501080-9dd7-4d6b-aa12-e6ffdf209436",
        "colab": {
          "base_uri": "https://localhost:8080/",
          "height": 51
        }
      },
      "source": [
        "# for Korean matplotlib on colabotory\n",
        "import matplotlib.font_manager as fm \n",
        "\n",
        "# Korean font installation\n",
        "!apt-get update -qq\n",
        "!apt-get install fonts-nanum* -qq\n",
        "!python --version\n",
        "\n",
        "def current_font():\n",
        "  print(f\"설정 폰트 글꼴: {plt.rcParams['font.family']}, 설정 폰트 사이즈: {plt.rcParams['font.size']}\")  # 파이썬 3.6 이상 사용가능\n",
        "path = '/usr/share/fonts/truetype/nanum/NanumGothicEco.ttf' \n",
        "font_name = fm.FontProperties(fname=path, size=10).get_name()\n",
        "print(font_name)\n",
        "plt.rc('font', family=font_name)\n",
        "fm._rebuild()"
      ],
      "execution_count": 0,
      "outputs": [
        {
          "output_type": "stream",
          "text": [
            "Python 3.6.8\n",
            "NanumGothic Eco\n"
          ],
          "name": "stdout"
        }
      ]
    },
    {
      "cell_type": "markdown",
      "metadata": {
        "id": "RVIQlUYzPjqH",
        "colab_type": "text"
      },
      "source": [
        "## Query"
      ]
    },
    {
      "cell_type": "code",
      "metadata": {
        "colab_type": "code",
        "id": "_irtXhuQ8G-V",
        "outputId": "00c44ed5-81fd-440c-9550-40b332330c35",
        "colab": {
          "base_uri": "https://localhost:8080/"
        }
      },
      "source": [
        "%%time\n",
        "\n",
        "query=\"\"\"\n",
        "\"\"\"\n",
        "\n",
        "raw_df = client.query(query).to_dataframe()\n",
        "print(raw_df.shape)"
      ],
      "execution_count": 0,
      "outputs": [
        {
          "output_type": "stream",
          "text": [
            "(2321031, 31)\n",
            "CPU times: user 4min 10s, sys: 6.26 s, total: 4min 16s\n",
            "Wall time: 12min 12s\n"
          ],
          "name": "stdout"
        }
      ]
    },
    {
      "cell_type": "markdown",
      "metadata": {
        "id": "6_UuYDDB8qbF",
        "colab_type": "text"
      },
      "source": [
        "## Get your own treatment / control group dataframe\n",
        "\n"
      ]
    },
    {
      "cell_type": "code",
      "metadata": {
        "id": "5c7uhQgf0Ffu",
        "colab_type": "code",
        "outputId": "a487fa42-e5cb-45b3-d3c7-e6d5f6d39c0a",
        "colab": {
          "base_uri": "https://localhost:8080/",
          "height": 152
        }
      },
      "source": [
        "print(\"Treatment group 전체:\", tmt.shape)\n",
        "print(\"Treatment group Inorganic:\", tmt_io.shape)\n",
        "print(\"Treatment group Organic:\", tmt_o.shape)\n",
        "print(\"Treatment group Non:\", tmt_non.shape)\n",
        "print(\"Control group 전체:\", ctl.shape)\n",
        "print(\"Control group Inorganic:\", ctl_io.shape)\n",
        "print(\"Control group Organic:\", ctl_o.shape)\n",
        "print(\"Control group Non:\", ctl_non.shape)"
      ],
      "execution_count": 0,
      "outputs": [
        {
          "output_type": "stream",
          "text": [
            "Treatment group 전체: (1807, 32)\n",
            "Treatment group Inorganic: (197, 32)\n",
            "Treatment group Organic: (1601, 32)\n",
            "Treatment group Non: (9, 32)\n",
            "Control group 전체: (40291, 32)\n",
            "Control group Inorganic: (7789, 32)\n",
            "Control group Organic: (31979, 32)\n",
            "Control group Non: (523, 32)\n"
          ],
          "name": "stdout"
        }
      ]
    },
    {
      "cell_type": "markdown",
      "metadata": {
        "id": "TJgC116M_Jcv",
        "colab_type": "text"
      },
      "source": [
        "# Plotting & Testing"
      ]
    },
    {
      "cell_type": "markdown",
      "metadata": {
        "id": "rK5Gemk7q_vn",
        "colab_type": "text"
      },
      "source": [
        "## 1. Raw data - Plotting (interactive)\n"
      ]
    },
    {
      "cell_type": "markdown",
      "metadata": {
        "id": "KdH-1bWXqf2A",
        "colab_type": "text"
      },
      "source": [
        "#### Treatment"
      ]
    },
    {
      "cell_type": "code",
      "metadata": {
        "id": "8QAgnTR_3uar",
        "colab_type": "code",
        "colab": {}
      },
      "source": [
        "import seaborn as sns\n",
        "from google.colab import widgets\n",
        "from scipy.stats import norm\n",
        "\n",
        "# write down your list of columns you want to compare between treatment group / control group\n",
        "lst=[]\n",
        "\n",
        "def dist_draw(df,x):\n",
        "    sns.set(rc={'figure.figsize':(8,6)})\n",
        "    sns.distplot(df[x], hist=True, kde=True, bins=int(180/5), color = 'darkblue', hist_kws={'edgecolor':'black'},kde_kws={'linewidth': 4})   \n",
        "    print(\"Skewness: %f\" % df[x].skew())\n",
        "    print(\"Kurtosis: %f\" % df[x].kurt())\n",
        "    \n",
        "columns_idx=tmt[lst].columns\n",
        "columns_lst=list(columns_idx)\n",
        "\n",
        "tb = widgets.TabBar([str(i) for i in columns_lst],location='start')\n",
        "for i in range(len(columns_lst)):\n",
        "  # Only select the first 3 tabs, and render others in the background.\n",
        "  with tb.output_to(i, select=(i < 1)):\n",
        "    dist_draw(tmt[lst],columns_lst[i])\n"
      ],
      "execution_count": 0,
      "outputs": []
    },
    {
      "cell_type": "markdown",
      "metadata": {
        "colab_type": "text",
        "id": "Nqm05LvW9Gfv"
      },
      "source": [
        "### Control"
      ]
    },
    {
      "cell_type": "code",
      "metadata": {
        "colab_type": "code",
        "id": "Ex3pfZFw9Gfw",
        "colab": {}
      },
      "source": [
        "import seaborn as sns\n",
        "from google.colab import widgets\n",
        "from scipy.stats import norm\n",
        "\n",
        "# write down your list of columns you want to compare between treatment group / control group\n",
        "lst=[]\n",
        "\n",
        "def dist_draw(df,x):\n",
        "    sns.set(rc={'figure.figsize':(8,6)})\n",
        "    sns.distplot(df[x], hist=True, kde=True, bins=int(180/5), color = 'darkblue', hist_kws={'edgecolor':'black'},kde_kws={'linewidth': 4})   \n",
        "    print(\"Skewness: %f\" % df[x].skew())\n",
        "    print(\"Kurtosis: %f\" % df[x].kurt())\n",
        "    \n",
        "columns_idx=ctl[lst].columns\n",
        "columns_lst=list(columns_idx)\n",
        "\n",
        "tb = widgets.TabBar([str(i) for i in columns_lst],location='start')\n",
        "for i in range(len(columns_lst)):\n",
        "  # Only select the first 3 tabs, and render others in the background.\n",
        "  with tb.output_to(i, select=(i < 1)):\n",
        "    dist_draw(ctl[lst],columns_lst[i])\n"
      ],
      "execution_count": 0,
      "outputs": []
    },
    {
      "cell_type": "markdown",
      "metadata": {
        "id": "_yNnhCyEcZgd",
        "colab_type": "text"
      },
      "source": [
        "## 2. Skewed Data Transformation\n",
        "\n",
        "\n",
        "\n",
        "\n",
        "\n",
        "\n"
      ]
    },
    {
      "cell_type": "markdown",
      "metadata": {
        "id": "7ryFDGNSUTcX",
        "colab_type": "text"
      },
      "source": [
        "### Description"
      ]
    },
    {
      "cell_type": "markdown",
      "metadata": {
        "id": "w4ebUkYYUdz6",
        "colab_type": "text"
      },
      "source": [
        "#### Standard functions used for such conversions include Normalization, the Sigmoid, Log, Cube Root and the Hyperbolic Tangent. It all depends on what one is trying to accomplish. Transform skewed data and convert it into values between 0 and 1 using Normalization function.\n",
        "\n"
      ]
    },
    {
      "cell_type": "markdown",
      "metadata": {
        "id": "_5m2svJgkKen",
        "colab_type": "text"
      },
      "source": [
        "### Automated data transformation"
      ]
    },
    {
      "cell_type": "code",
      "metadata": {
        "id": "IgN6ZLp61kE-",
        "colab_type": "code",
        "colab": {}
      },
      "source": [
        "# transform your selected columns(which are in lst) with three types of methods\n",
        "# and finalize your columns with transformed into the best type of transformation method (where the sum of absolute skewness of treatment group & control group is closest to 0)\n",
        "\n",
        "# sigmoid function\n",
        "def sigmoid(x):\n",
        "    e = np.exp(1)\n",
        "    y = 1/(1+e**(-x))\n",
        "    return y\n",
        "\n",
        "# cube root function\n",
        "def cube_root(df):\n",
        "    return df**(1/3)\n",
        "\n",
        "# normalizing at final step\n",
        "def normalize(i):\n",
        "    upper = i.max()\n",
        "    lower = i.min()\n",
        "    norm_series = (i - lower)/(upper-lower)\n",
        "    return norm_series\n",
        "\n",
        "# integrated\n",
        "def transform(df1,df2,lst):\n",
        "  \n",
        "     # random sampling 100 if you want it before transformation function\n",
        "#     df1=df1.sample(n=100)\n",
        "#     df2=df2.sample(n=100)\n",
        "  \n",
        "    for y in lst:\n",
        "    # sigmoid check\n",
        "        sigmoid_series1=sigmoid(df1[y])\n",
        "        sigmoid_series2=sigmoid(df2[y])\n",
        "\n",
        "        # log+1 check\n",
        "        log1_series1=np.log1p(df1[y])\n",
        "        log1_series2=np.log1p(df2[y])\n",
        "\n",
        "        # cube root check\n",
        "        cube_series1=cube_root(df1[y])\n",
        "        cube_series2=cube_root(df2[y])\n",
        "\n",
        "        # organize the functions\n",
        "        options1=[sigmoid_series1,log1_series1,cube_series1]\n",
        "        options2=[sigmoid_series2,log1_series2,cube_series2]\n",
        "        options_name=['sigmoid function','log1p function','cube root function']\n",
        "\n",
        "        # randomly set \n",
        "        best_skew_both=100 \n",
        "        best_function_name='none'\n",
        "\n",
        "        # comparing\n",
        "        for ser1,ser2, func_name in zip(options1,options2,options_name):\n",
        "        \n",
        "        # normalizing in function if you both want normalization transformation & transformation with function\n",
        "    #       ser1=normalize(ser1)\n",
        "    #       ser2=normalize(ser2)\n",
        "\n",
        "          if abs(best_skew_both) > abs(ser1.skew())+abs(ser2.skew()):\n",
        "            best_skew_both=abs(ser1.skew())+abs(ser2.skew())\n",
        "            best_function_name=func_name\n",
        "            best_series1=ser1\n",
        "            best_series2=ser2\n",
        "\n",
        "\n",
        "        print(y,'is best when transformed into',best_function_name) \n",
        "        print('first df skewness: ',best_series1.skew())\n",
        "        print('second df skewness: ',best_series2.skew())\n",
        "        print(\"\")\n",
        "    \n",
        "        # transforming; by only typing the function, it will change your original dataframes\n",
        "        df1[y]=ser1\n",
        "        df2[y]=ser2\n",
        "       "
      ],
      "execution_count": 0,
      "outputs": []
    },
    {
      "cell_type": "markdown",
      "metadata": {
        "id": "bVZupbEWkN_1",
        "colab_type": "text"
      },
      "source": [
        "### Usage"
      ]
    },
    {
      "cell_type": "code",
      "metadata": {
        "id": "ErwfeMhJicCV",
        "colab_type": "code",
        "outputId": "9fbd2f72-d5de-450f-b578-9c4dfa34906f",
        "colab": {
          "base_uri": "https://localhost:8080/",
          "height": 574
        }
      },
      "source": [
        "# write down your list of columns you want to compare between treatment group / control group\n",
        "lst=[]\n",
        "\n",
        "transform(tmt,ctl,lst)"
      ],
      "execution_count": 0,
      "outputs": [
        {
          "output_type": "stream",
          "text": [
            "reserve_count is best when transformed into cube root function\n",
            "first df skewness:  1.0270930846491715\n",
            "second df skewness:  0.2421802495927067\n",
            "\n",
            "rev_total_avg is best when transformed into cube root function\n",
            "first df skewness:  2.133780850320439\n",
            "second df skewness:  0.10507008801015286\n",
            "\n"
          ],
          "name": "stdout"
        },
        {
          "output_type": "stream",
          "text": [
            "/usr/local/lib/python3.6/dist-packages/ipykernel_launcher.py:66: SettingWithCopyWarning: \n",
            "A value is trying to be set on a copy of a slice from a DataFrame.\n",
            "Try using .loc[row_indexer,col_indexer] = value instead\n",
            "\n",
            "See the caveats in the documentation: http://pandas.pydata.org/pandas-docs/stable/indexing.html#indexing-view-versus-copy\n",
            "/usr/local/lib/python3.6/dist-packages/ipykernel_launcher.py:67: SettingWithCopyWarning: \n",
            "A value is trying to be set on a copy of a slice from a DataFrame.\n",
            "Try using .loc[row_indexer,col_indexer] = value instead\n",
            "\n",
            "See the caveats in the documentation: http://pandas.pydata.org/pandas-docs/stable/indexing.html#indexing-view-versus-copy\n",
            "/usr/local/lib/python3.6/dist-packages/ipykernel_launcher.py:30: RuntimeWarning: invalid value encountered in log1p\n",
            "/usr/local/lib/python3.6/dist-packages/ipykernel_launcher.py:31: RuntimeWarning: divide by zero encountered in log1p\n",
            "/usr/local/lib/python3.6/dist-packages/ipykernel_launcher.py:31: RuntimeWarning: invalid value encountered in log1p\n"
          ],
          "name": "stderr"
        },
        {
          "output_type": "stream",
          "text": [
            "contribution_margin_avg is best when transformed into cube root function\n",
            "first df skewness:  2.310719073569172\n",
            "second df skewness:  0.2376810130041142\n",
            "\n",
            "visit_day_count is best when transformed into log1p function\n",
            "first df skewness:  -0.6367206762897272\n",
            "second df skewness:  -0.20768584012910885\n",
            "\n",
            "PREVIEW_CAR_RENTAL_count_af is best when transformed into cube root function\n",
            "first df skewness:  -0.19760063960976204\n",
            "second df skewness:  -0.09773425967089361\n",
            "\n"
          ],
          "name": "stdout"
        }
      ]
    },
    {
      "cell_type": "markdown",
      "metadata": {
        "colab_type": "text",
        "id": "8sjvQHWB-Pjc"
      },
      "source": [
        "## 3. Transformed data - Plotting (interactive)\n",
        "\n",
        "\n"
      ]
    },
    {
      "cell_type": "markdown",
      "metadata": {
        "colab_type": "text",
        "id": "_9buQxOMsHrH"
      },
      "source": [
        "#### Treatment"
      ]
    },
    {
      "cell_type": "code",
      "metadata": {
        "colab_type": "code",
        "id": "zvz3MPSNsHrN",
        "colab": {}
      },
      "source": [
        "import seaborn as sns\n",
        "from google.colab import widgets\n",
        "from scipy.stats import norm\n",
        "\n",
        "# write down your list of columns you want to compare between treatment group / control group\n",
        "lst=[]\n",
        "\n",
        "def dist_draw(df,x):\n",
        "    sns.set(rc={'figure.figsize':(8,6)})\n",
        "    sns.distplot(df[x], hist=True, kde=True, bins=int(180/5), color = 'darkblue', hist_kws={'edgecolor':'black'},kde_kws={'linewidth': 4})   \n",
        "    print(\"Skewness: %f\" % df[x].skew())\n",
        "    print(\"Kurtosis: %f\" % df[x].kurt())\n",
        "    \n",
        "columns_idx=tmt[lst].columns\n",
        "columns_lst=list(columns_idx)\n",
        "\n",
        "tb = widgets.TabBar([str(i) for i in columns_lst],location='start')\n",
        "for i in range(len(columns_lst)):\n",
        "  # Only select the first 3 tabs, and render others in the background.\n",
        "  with tb.output_to(i, select=(i < 1)):\n",
        "    dist_draw(tmt[lst],columns_lst[i])\n"
      ],
      "execution_count": 0,
      "outputs": []
    },
    {
      "cell_type": "markdown",
      "metadata": {
        "colab_type": "text",
        "id": "80cLtT6nsHrS"
      },
      "source": [
        "### Control"
      ]
    },
    {
      "cell_type": "code",
      "metadata": {
        "colab_type": "code",
        "id": "-xs9baf6sHrT",
        "colab": {}
      },
      "source": [
        "import seaborn as sns\n",
        "from google.colab import widgets\n",
        "from scipy.stats import norm\n",
        "\n",
        "# write down your list of columns you want to compare between treatment group / control group\n",
        "lst=[]\n",
        "\n",
        "def dist_draw(df,x):\n",
        "    sns.set(rc={'figure.figsize':(8,6)})\n",
        "    sns.distplot(df[x], hist=True, kde=True, bins=int(180/5), color = 'darkblue', hist_kws={'edgecolor':'black'},kde_kws={'linewidth': 4})   \n",
        "    print(\"Skewness: %f\" % df[x].skew())\n",
        "    print(\"Kurtosis: %f\" % df[x].kurt())\n",
        "    \n",
        "columns_idx=ctl[lst].columns\n",
        "columns_lst=list(columns_idx)\n",
        "\n",
        "tb = widgets.TabBar([str(i) for i in columns_lst],location='start')\n",
        "for i in range(len(columns_lst)):\n",
        "  # Only select the first 3 tabs, and render others in the background.\n",
        "  with tb.output_to(i, select=(i < 1)):\n",
        "    dist_draw(ctl[lst],columns_lst[i])\n"
      ],
      "execution_count": 0,
      "outputs": []
    },
    {
      "cell_type": "markdown",
      "metadata": {
        "id": "8Nvv9TKarmD1",
        "colab_type": "text"
      },
      "source": [
        "## 4. Normality test, Equal variance test, Independent T-test, Mann Whitney U test"
      ]
    },
    {
      "cell_type": "markdown",
      "metadata": {
        "colab_type": "text",
        "id": "I_3ORnTLU1t5"
      },
      "source": [
        "### Description ( in Korean )"
      ]
    },
    {
      "cell_type": "markdown",
      "metadata": {
        "id": "Wumw2kDrU1t9",
        "colab_type": "text"
      },
      "source": [
        "#### 정규성 검정 후 정규 분포 따를 시 Bartlett 등분산 검정, 따르지 않을 시 Levene 등분산 검정 & Mann Whitney U test , 등분산 검정 후 등분산일 시 등분산 독립표본 T-검정, 등분산 따르지 않을 시 이분산 독립표본-T-검정\n",
        "\n",
        "\n",
        "###  * t-test 를 이용한 캠페인 집단별 비교를 하기 전에!\n",
        "> 정규성 검정\n",
        "> * 귀무가설 ($H_0$): 데이터의 분포가 정규분포를 따른다\n",
        "> * 대립가설 ($H_1$): 데이터의 분포가 정규분포를 따르지 않는다 \n",
        "\n",
        ">  검정의 종류\n",
        "> * Shapiro-Wilk Test: `from scipy.stats import shapiro`\n",
        "> * Anderson-Darling Test: `from scipy.stats import shapiro`\n",
        "\n",
        "> 주의할 점\n",
        "> * 데이터의 갯수가 5,000개 이상이면 p-value 의 특성상 매우 작게 나올 수 있음. 이 때는 적당한 숫자의 표본을 다시 추출하여 검정을 하는 것이 바람직함. \n",
        "> * 일부 검정 함수의 경우 경고 메시지를 출력하기도 하니 자세히 살펴보는 게 좋을 듯\n",
        "> *   참고자료: [A Gentle Introduction to Normality Tests in Python](https://machinelearningmastery.com/a-gentle-introduction-to-normality-tests-in-python/)\n",
        "\n",
        "### * 비모수적 검정\n",
        "> 비모수 방법은 언제 하나?\n",
        "1. Transformation으로 해결이 안될 때\n",
        "2. 표본수가 너무 적어(6이하) 분포를\n",
        "알 수 없는 경우\n",
        "3. 집단들의 표본수가 서로 크게 다를 경우\n",
        "4. 변수가 명칭 혹은 순서 척도일 때\n",
        "5. 중앙값의 비교가 목적일 때\n",
        "6. 최소한의 가정. 즉 등분산성, 정규분포 등의\n",
        "가정을 만족 못할 때\n",
        "\n",
        "> 모수 : 비모수\n",
        "> Independent t-test : Mann-Whitney test\n",
        "> Paired t-test : Wilcoxon signed rank test\n"
      ]
    },
    {
      "cell_type": "markdown",
      "metadata": {
        "id": "_JDJ3XlrI5zH",
        "colab_type": "text"
      },
      "source": [
        "### Automated hypothesis testing"
      ]
    },
    {
      "cell_type": "code",
      "metadata": {
        "id": "lQBAVjsQITwx",
        "colab_type": "code",
        "colab": {}
      },
      "source": [
        "import scipy as sp\n",
        "from scipy import stats\n",
        "from scipy.stats import shapiro\n",
        "from scipy.stats import anderson\n",
        "from scipy.stats import mannwhitneyu\n",
        "\n",
        "\n",
        "# 입력 인자 - 실험군 데이터프레임, 대조군 데이터프레임, 비교하고자 하는 y지표 리스트, 'KS' 또는 'AD' 의 두 정규성 검정 방식, 희망 sampling 수(integer)\n",
        "# Input - df1= treatment dataframe, df2 = control dataframe, lst= list of columns you want to compare, norm_option = 'KS' or 'AD', sample= number of samples\n",
        "def integrated_test(df1,df2,lst,norm_option,sample):\n",
        "    \n",
        "    # 귀무가설 기각한 y지표를 for문 안에서 리스트화할 준비\n",
        "    success=[]    \n",
        "    \n",
        "    # 검정 시작\n",
        "    print(\"[실험군과 대조군 모집단에 대한 정규성 검정 %s / 등분산 검정/ 독립표본 T-검정]\"%norm_option)\n",
        "    print(\"\")\n",
        "    print(\"실험군 n: \", len(df1))\n",
        "    print(\"대조군 n: \", len(df2))\n",
        "    print(\"(Randomly sampled n=%s)\"%sample)\n",
        "    print(\"\")\n",
        "\n",
        "    for y in lst:\n",
        "        print('- Y값이 %s일때'%y)\n",
        "        \n",
        "        # random sampling\n",
        "        df1_y=df1[y].sample(n=sample,random_state=23)  \n",
        "        df2_y=df2[y].sample(n=sample,random_state=23)\n",
        "        \n",
        "        \n",
        "        # 1) 정규성 검정 Normality test\n",
        "        \n",
        "        # 1-1) Kolmogorov Smirnov test\n",
        "        if norm_option=='KS':\n",
        "            Nmresult_tmt=sp.stats.kstest(df1_y,'norm')\n",
        "            print('\\t실험군: KS Statistics: %.3f \\n\\tp-value : %.3f' % (Nmresult_tmt))\n",
        "            print(\"\")\n",
        "            Nmresult_ctl=sp.stats.kstest(df2_y,'norm')\n",
        "            print('\\t대조군: KS Statistics: %.3f \\n\\tp-value : %.3f' % (Nmresult_ctl))\n",
        "            print(\"\")\n",
        "\n",
        "            # 1의 결과 두 y지표 모두 정규분포 일때\n",
        "            if (Nmresult_tmt[1]> 0.05) & (Nmresult_ctl[1]> 0.05) :\n",
        "\n",
        "                 # 2) 등분산 검정 Equal variance test using Bartlett \n",
        "                print(\"\\t두 모집단 모두 정규분포를 따름으로 가정하여, Barlett 등분산 검정을 진행한다.\")\n",
        "                btresult = stats.bartlett(df1_y, df2_y)\n",
        "                print('\\tBartlett Result(F) : %.3f \\n\\tp-value : %.3f' % (lresult)) # F값이란 집단간 분산/집단내 분산\n",
        "\n",
        "                if (btresult[1]<=0.05) & (btresult[0] <= 100):\n",
        "\n",
        "                    # 3) 독립표본 t-test 등분산 가정, Independent t-test with equal variance\n",
        "                    print(\"\\t결과: 두 모집단의 분산은 동일함을 가정하여, 등분산 독립표본 검정을 진행한다.\")\n",
        "                    print(\"\")\n",
        "                    Indresult=sp.stats.ttest_ind(df1_y, df_y, equal_var=True)\n",
        "                    print('\\tT-Statistics: %.3f \\n\\tp-value : %.3f' % (Indresult))\n",
        "                    if Indresult[1]<=0.05:\n",
        "                        print(\"\\t결과: 귀무가설을 기각한다.\")\n",
        "                        success.append(y)\n",
        "                    else:\n",
        "                        print(\"\\t결과: 귀무가설을 기각하지 않는다.\")\n",
        "                    print(\"\")\n",
        "\n",
        "                else:\n",
        "\n",
        "                    # 3) 독립표본 t-test 등분산 가정 Independent t-test with unequal variance\n",
        "                    print(\"\\t결과: 두 모집단의 분산은 동일하지 않음을 가정하여, 이분산 독립표본 검정을 진행한다.\")\n",
        "                    print(\"\")\n",
        "                    Indresult=sp.stats.ttest_ind(df1_y, df2_y, equal_var=False)\n",
        "                    print('\\tT-Statistics: %.3f \\n\\tp-value : %.3f' % (Indresult))\n",
        "                    if Indresult[1]<=0.05:\n",
        "                        print(\"\\t결과: 귀무가설을 기각한다.\")\n",
        "                        success.append(y)\n",
        "                    else:\n",
        "                        print(\"\\t결과: 귀무가설을 기각하지 않는다.\")\n",
        "                    print(\"\")\n",
        "\n",
        "            # 두 y지표 다 정규분포 아닐 때        \n",
        "            else:\n",
        "\n",
        "                # 2) 등분산 검정 Equal variance test using levene\n",
        "                print(\"\\t두 모집단 모두 정규분포를 따르지 않음으로 가정하여, Levene 등분산 검정을 진행한다.\")\n",
        "                lresult = stats.levene(df1_y, df2_y)\n",
        "                print('\\tLevene Result(F) : %.3f \\n\\tp-value : %.3f' % (lresult)) # F값이란 집단간 분산/집단내 분산\n",
        "\n",
        "                if (lresult[1]<=0.05) & (lresult[0] <= 100):\n",
        "\n",
        "                    # 3) Mann Whitney U test 등분산 가정(doesn't really matter)\n",
        "                    print(\"\\t결과: 두 모집단의 분산은 동일함을 가정하고, Mann Whitney U 검정을 진행한다.\")\n",
        "                    print(\"\")\n",
        "                    Indresult=mannwhitneyu(df1_y, df2_y)\n",
        "                    print('\\tMWU-Statistics: %.3f \\n\\tp-value : %.3f' % (Indresult))\n",
        "                    if Indresult[1]<=0.05:\n",
        "                        print(\"\\t결과: 귀무가설을 기각한다.\")\n",
        "                        success.append(y)\n",
        "                    else:\n",
        "                        print(\"\\t결과: 귀무가설을 기각하지 않는다.\")\n",
        "                    print(\"\")\n",
        "\n",
        "                else:\n",
        "\n",
        "                    # 3) Mann Whitney U 이분산 가정 (doesn't really matter)\n",
        "                    print(\"\\t결과: 두 모집단의 분산은 동일하지 않음을 가정하고, Mann Whitney U 검정을 진행한다.\")\n",
        "                    print(\"\")\n",
        "                    Indresult=mannwhitneyu(df1_y, df2_y)\n",
        "                    print('\\tMWU-Statistics: %.3f \\n\\tp-value : %.3f' % (Indresult))\n",
        "                    if Indresult[1]<=0.05:\n",
        "                        print(\"\\t결과: 귀무가설을 기각한다.\")\n",
        "                        success.append(y)\n",
        "                    else:\n",
        "                        print(\"\\t결과: 귀무가설을 기각하지 않는다.\")\n",
        "                    print(\"\")\n",
        "\n",
        "            print(\"\")\n",
        "            \n",
        "            \n",
        "        # 1-2) Anderson Darling Test\n",
        "        elif norm_option=='AD':\n",
        "            Nmresult_tmt = anderson(df1_y)\n",
        "            Nmresult_ctl = anderson(df2_y)\n",
        "            \n",
        "            p = 0\n",
        "            count_reject_fail_tmt=0 # 어느 신뢰수준이든 귀무가설 기각 실패시 count+=1을 하고, count가 1이상이면 정규분포로 고려\n",
        "            count_reject_fail_ctl=0\n",
        "\n",
        "            for i in range(len(Nmresult_tmt.critical_values)): # 신뢰수준은 여기서 바꿀 수 있다.\n",
        "                sl_tmt, cv_tmt = Nmresult_tmt.significance_level[i], Nmresult_tmt.critical_values[i]\n",
        "                sl_ctl, cv_ctl = Nmresult_ctl.significance_level[i], Nmresult_ctl.critical_values[i]\n",
        "                \n",
        "                if (Nmresult_tmt.statistic < Nmresult_tmt.critical_values[i]):\n",
        "                    count_reject_fail_tmt +=1\n",
        "                    print('\\t\\t(실험군 - 신뢰수준 %s에서 기각 기록)'%sl_tmt)\n",
        "                if (Nmresult_ctl.statistic < Nmresult_ctl.critical_values[i]):\n",
        "                    count_reject_fail_ctl +=1\n",
        "                    print('\\t\\t(대조군 - 신뢰수준 %s에서 기각 기록)'%sl_ctl)\n",
        "\n",
        "            # 정규 분포일때(df1, df2 모두에서 한 y지표에 대해 어느 신뢰수준이든 귀무가설 기각에 실패한 기록이 있을 때)\n",
        "            if (count_reject_fail_tmt >=1) & (count_reject_fail_ctl >=1) :\n",
        "\n",
        "                 # 2) 등분산 검정 Equal variance test using bartlett\n",
        "                print(\"\\t두 모집단 모두 정규분포를 따름으로 가정하여, Barlett 등분산 검정을 진행한다.\")\n",
        "                btresult = stats.bartlett(df1_y, df2_y)\n",
        "                print('\\tBartlett Result(F) : %.3f \\n\\tp-value : %.3f' % (lresult)) # F값이란 집단간 분산/집단내 분산\n",
        "\n",
        "                if (btresult[1]<=0.05) & (btresult[0] <= 100):\n",
        "\n",
        "                    # 3) 독립표본 t-test 등분산 가정 Independent t-test with equal variance\n",
        "                    print(\"\\t결과: 두 모집단의 분산은 동일함을 가정하여, 등분산 독립표본 검정을 진행한다.\")\n",
        "                    print(\"\")\n",
        "                    Indresult=sp.stats.ttest_ind(df1_y, df2_y, equal_var=True)\n",
        "                    print('\\tT-Statistics: %.3f \\n\\tp-value : %.3f' % (Indresult))\n",
        "                    if Indresult[1]<=0.05:\n",
        "                        print(\"\\t결과: 귀무가설을 기각한다.\")\n",
        "                        success.append(y)\n",
        "                    else:\n",
        "                        print(\"\\t결과: 귀무가설을 기각하지 않는다.\")\n",
        "                    print(\"\")\n",
        "\n",
        "                else:\n",
        "\n",
        "                    # 3) 독립표본 t-test 이분산 가정 Independent t-test with unequal variance\n",
        "                    print(\"\\t결과: 두 모집단의 분산은 동일하지 않음을 가정하여, 이분산 독립표본 검정을 진행한다.\")\n",
        "                    print(\"\")\n",
        "                    Indresult=sp.stats.ttest_ind(df1_y, df2_y, equal_var=False)\n",
        "                    print('\\tT-Statistics: %.3f \\n\\tp-value : %.3f' % (Indresult))\n",
        "                    if Indresult[1]<=0.05:\n",
        "                        print(\"\\t결과: 귀무가설을 기각한다.\")\n",
        "                        success.append(y)\n",
        "                    else:\n",
        "                        print(\"\\t결과: 귀무가설을 기각하지 않는다.\")\n",
        "                    print(\"\")\n",
        "\n",
        "            # 정규분포 아닐 때 (df1, df2 모두에서 한 y지표에 대해 어느 신뢰수준이든 귀무가설 기각한 기록만 있을때)       \n",
        "            else:\n",
        "                \n",
        "                # 2) 등분산 검정 Equal variance test using levene\n",
        "                print(\"\\t두 모집단 모두 정규분포를 따르지 않음으로 가정하여, Levene 등분산 검정을 진행한다.\")\n",
        "                lresult = stats.levene(df1_y, df2_y)\n",
        "                print('\\tLevene Result(F) : %.3f \\n\\tp-value : %.3f' % (lresult)) # F값이란 집단간 분산/집단내 분산\n",
        "\n",
        "                if (lresult[1]<=0.05) & (lresult[0] <= 100):\n",
        "\n",
        "                    # 3) Mann Whitney U 등분산 가정\n",
        "                    print(\"\\t결과: 두 모집단의 분산은 동일함을 가정하고, Mann Whitney U 검정을 진행한다.\")\n",
        "                    print(\"\")\n",
        "                    Indresult=mannwhitneyu(df1_y, df2_y)\n",
        "                    print('\\tMWU-Statistics: %.3f \\n\\tp-value : %.3f' % (Indresult))\n",
        "                    if Indresult[1]<=0.05:\n",
        "                        print(\"\\t결과: 귀무가설을 기각한다.\")\n",
        "                        success.append(y)\n",
        "                    else:\n",
        "                        print(\"\\t결과: 귀무가설을 기각하지 않는다.\")\n",
        "                    print(\"\")\n",
        "\n",
        "                else:\n",
        "\n",
        "                    # 3) Mann Whitney U 이분산 가정\n",
        "                    print(\"\\t결과: 두 모집단의 분산은 동일하지 않음을 가정하고, Mann Whitney U 검정을 진행한다.\")\n",
        "                    print(\"\")\n",
        "                    Indresult=mannwhitneyu(df1_y, df2_y)\n",
        "                    print('\\tMWU-Statistics: %.3f \\n\\tp-value : %.3f' % (Indresult))\n",
        "                    if Indresult[1]<=0.05:\n",
        "                        print(\"\\t결과: 귀무가설을 기각한다.\")\n",
        "                        success.append(y)\n",
        "                    else:\n",
        "                        print(\"\\t결과: 귀무가설을 기각하지 않는다.\")\n",
        "                    print(\"\")\n",
        "\n",
        "            print(\"\")\n",
        "\n",
        "    print(\"유의미한 차이를 보인 y지표 : \",success)"
      ],
      "execution_count": 0,
      "outputs": []
    },
    {
      "cell_type": "markdown",
      "metadata": {
        "id": "GNfqKBZ7KCEH",
        "colab_type": "text"
      },
      "source": [
        "### Usage"
      ]
    },
    {
      "cell_type": "code",
      "metadata": {
        "id": "b6b-LTWMJ4Ol",
        "colab_type": "code",
        "outputId": "ff46db0b-cba5-4d5d-f75d-dbfc33cd8a87",
        "colab": {
          "base_uri": "https://localhost:8080/",
          "height": 1000
        }
      },
      "source": [
        "# write down your list of columns you want to compare between treatment group / control group\n",
        "lst=[]\n",
        "\n",
        "integrated_test(tmt,ctl,lst,'KS',100)"
      ],
      "execution_count": 0,
      "outputs": [
        {
          "output_type": "stream",
          "text": [
            "[실험군과 대조군 모집단에 대한 정규성 검정 KS / 등분산 검정/ 독립표본 T-검정]\n",
            "\n",
            "실험군 n:  1807\n",
            "대조군 n:  40291\n",
            "(Randomly sampled n=100)\n",
            "\n",
            "- Y값이 reserve_count일때\n",
            "\t실험군: KS Statistics: 0.841 \n",
            "\tp-value : 0.000\n",
            "\n",
            "\t대조군: KS Statistics: 0.831 \n",
            "\tp-value : 0.000\n",
            "\n",
            "\t두 모집단 모두 정규분포를 따르지 않음으로 가정하여, Levene 등분산 검정을 진행한다.\n",
            "\tLevene Result(F) : 1.975 \n",
            "\tp-value : 0.162\n",
            "\t결과: 두 모집단의 분산은 동일하지 않음을 가정하고, Mann Whitney U 검정을 진행한다.\n",
            "\n",
            "\tMWU-Statistics: 4365.500 \n",
            "\tp-value : 0.032\n",
            "\t결과: 귀무가설을 기각한다.\n",
            "\n",
            "\n",
            "- Y값이 contribution_margin_avg일때\n",
            "\t실험군: KS Statistics: nan \n",
            "\tp-value : nan\n",
            "\n",
            "\t대조군: KS Statistics: nan \n",
            "\tp-value : nan\n",
            "\n",
            "\t두 모집단 모두 정규분포를 따르지 않음으로 가정하여, Levene 등분산 검정을 진행한다.\n",
            "\tLevene Result(F) : nan \n",
            "\tp-value : nan\n",
            "\t결과: 두 모집단의 분산은 동일하지 않음을 가정하고, Mann Whitney U 검정을 진행한다.\n",
            "\n",
            "\tMWU-Statistics: 4502.000 \n",
            "\tp-value : 0.112\n",
            "\t결과: 귀무가설을 기각하지 않는다.\n",
            "\n",
            "\n",
            "- Y값이 rev_total_avg일때\n",
            "\t실험군: KS Statistics: 1.000 \n",
            "\tp-value : 0.000\n",
            "\n",
            "\t대조군: KS Statistics: 0.990 \n",
            "\tp-value : 0.000\n",
            "\n",
            "\t두 모집단 모두 정규분포를 따르지 않음으로 가정하여, Levene 등분산 검정을 진행한다.\n",
            "\tLevene Result(F) : 2.604 \n",
            "\tp-value : 0.108\n",
            "\t결과: 두 모집단의 분산은 동일하지 않음을 가정하고, Mann Whitney U 검정을 진행한다.\n",
            "\n",
            "\tMWU-Statistics: 4650.000 \n",
            "\tp-value : 0.197\n",
            "\t결과: 귀무가설을 기각하지 않는다.\n",
            "\n",
            "\n",
            "- Y값이 visit_day_count일때\n",
            "\t실험군: KS Statistics: 0.886 \n",
            "\tp-value : 0.000\n",
            "\n",
            "\t대조군: KS Statistics: 0.831 \n",
            "\tp-value : 0.000\n",
            "\n",
            "\t두 모집단 모두 정규분포를 따르지 않음으로 가정하여, Levene 등분산 검정을 진행한다.\n",
            "\tLevene Result(F) : 0.727 \n",
            "\tp-value : 0.395\n",
            "\t결과: 두 모집단의 분산은 동일하지 않음을 가정하고, Mann Whitney U 검정을 진행한다.\n",
            "\n",
            "\tMWU-Statistics: 3976.500 \n",
            "\tp-value : 0.006\n",
            "\t결과: 귀무가설을 기각한다.\n",
            "\n",
            "\n",
            "- Y값이 PREVIEW_CAR_RENTAL_count_af일때\n",
            "\t실험군: KS Statistics: 0.885 \n",
            "\tp-value : 0.000\n",
            "\n",
            "\t대조군: KS Statistics: 0.854 \n",
            "\tp-value : 0.000\n",
            "\n",
            "\t두 모집단 모두 정규분포를 따르지 않음으로 가정하여, Levene 등분산 검정을 진행한다.\n",
            "\tLevene Result(F) : 2.301 \n",
            "\tp-value : 0.131\n",
            "\t결과: 두 모집단의 분산은 동일하지 않음을 가정하고, Mann Whitney U 검정을 진행한다.\n",
            "\n",
            "\tMWU-Statistics: 3756.000 \n",
            "\tp-value : 0.001\n",
            "\t결과: 귀무가설을 기각한다.\n",
            "\n",
            "\n",
            "- Y값이 rev_total_sum일때\n",
            "\t실험군: KS Statistics: 1.000 \n",
            "\tp-value : 0.000\n",
            "\n",
            "\t대조군: KS Statistics: 0.990 \n",
            "\tp-value : 0.000\n",
            "\n",
            "\t두 모집단 모두 정규분포를 따르지 않음으로 가정하여, Levene 등분산 검정을 진행한다.\n",
            "\tLevene Result(F) : 0.669 \n",
            "\tp-value : 0.414\n",
            "\t결과: 두 모집단의 분산은 동일하지 않음을 가정하고, Mann Whitney U 검정을 진행한다.\n",
            "\n",
            "\tMWU-Statistics: 4817.500 \n",
            "\tp-value : 0.328\n",
            "\t결과: 귀무가설을 기각하지 않는다.\n",
            "\n",
            "\n",
            "유의미한 차이를 보인 y지표 :  ['reserve_count', 'visit_day_count', 'PREVIEW_CAR_RENTAL_count_af']\n"
          ],
          "name": "stdout"
        },
        {
          "output_type": "stream",
          "text": [
            "/usr/local/lib/python3.6/dist-packages/scipy/stats/_distn_infrastructure.py:901: RuntimeWarning: invalid value encountered in greater\n",
            "  return (a < x) & (x < b)\n",
            "/usr/local/lib/python3.6/dist-packages/scipy/stats/_distn_infrastructure.py:901: RuntimeWarning: invalid value encountered in less\n",
            "  return (a < x) & (x < b)\n",
            "/usr/local/lib/python3.6/dist-packages/scipy/stats/_distn_infrastructure.py:1807: RuntimeWarning: invalid value encountered in greater_equal\n",
            "  cond2 = (x >= _b) & cond0\n",
            "/usr/local/lib/python3.6/dist-packages/numpy/lib/function_base.py:3405: RuntimeWarning: Invalid value encountered in median\n",
            "  r = func(a, **kwargs)\n"
          ],
          "name": "stderr"
        }
      ]
    },
    {
      "cell_type": "code",
      "metadata": {
        "id": "Ip3KVvaFdwjL",
        "colab_type": "code",
        "outputId": "21ef3fd6-a152-444f-ce4c-f238185d4c18",
        "colab": {
          "base_uri": "https://localhost:8080/",
          "height": 1000
        }
      },
      "source": [
        "integrated_test(tmt,ctl,lst,'AD',100)"
      ],
      "execution_count": 0,
      "outputs": [
        {
          "output_type": "stream",
          "text": [
            "[실험군과 대조군 모집단에 대한 정규성 검정 AD / 등분산 검정/ 독립표본 T-검정]\n",
            "\n",
            "실험군 n:  1807\n",
            "대조군 n:  40291\n",
            "(Randomly sampled n=100)\n",
            "\n",
            "- Y값이 reserve_count일때\n",
            "\t두 모집단 모두 정규분포를 따르지 않음으로 가정하여, Levene 등분산 검정을 진행한다.\n",
            "\tLevene Result(F) : 1.975 \n",
            "\tp-value : 0.162\n",
            "\t결과: 두 모집단의 분산은 동일하지 않음을 가정하고, Mann Whitney U 검정을 진행한다.\n",
            "\n",
            "\tMWU-Statistics: 4365.500 \n",
            "\tp-value : 0.032\n",
            "\t결과: 귀무가설을 기각한다.\n",
            "\n",
            "\n",
            "- Y값이 contribution_margin_avg일때\n",
            "\t두 모집단 모두 정규분포를 따르지 않음으로 가정하여, Levene 등분산 검정을 진행한다.\n",
            "\tLevene Result(F) : nan \n",
            "\tp-value : nan\n",
            "\t결과: 두 모집단의 분산은 동일하지 않음을 가정하고, Mann Whitney U 검정을 진행한다.\n",
            "\n",
            "\tMWU-Statistics: 4502.000 \n",
            "\tp-value : 0.112\n",
            "\t결과: 귀무가설을 기각하지 않는다.\n",
            "\n",
            "\n",
            "- Y값이 rev_total_avg일때\n",
            "\t\t(실험군 - 신뢰수준 15.0에서 기각 기록)\n",
            "\t\t(대조군 - 신뢰수준 15.0에서 기각 기록)\n",
            "\t\t(실험군 - 신뢰수준 10.0에서 기각 기록)\n",
            "\t\t(대조군 - 신뢰수준 10.0에서 기각 기록)\n",
            "\t\t(실험군 - 신뢰수준 5.0에서 기각 기록)\n",
            "\t\t(대조군 - 신뢰수준 5.0에서 기각 기록)\n",
            "\t\t(실험군 - 신뢰수준 2.5에서 기각 기록)\n",
            "\t\t(대조군 - 신뢰수준 2.5에서 기각 기록)\n",
            "\t\t(실험군 - 신뢰수준 1.0에서 기각 기록)\n",
            "\t\t(대조군 - 신뢰수준 1.0에서 기각 기록)\n",
            "\t두 모집단 모두 정규분포를 따름으로 가정하여, Barlett 등분산 검정을 진행한다.\n",
            "\tBartlett Result(F) : nan \n",
            "\tp-value : nan\n",
            "\t결과: 두 모집단의 분산은 동일하지 않음을 가정하여, 이분산 독립표본 검정을 진행한다.\n",
            "\n",
            "\tT-Statistics: -0.923 \n",
            "\tp-value : 0.357\n",
            "\t결과: 귀무가설을 기각하지 않는다.\n",
            "\n",
            "\n",
            "- Y값이 visit_day_count일때\n",
            "\t\t(대조군 - 신뢰수준 1.0에서 기각 기록)\n",
            "\t두 모집단 모두 정규분포를 따르지 않음으로 가정하여, Levene 등분산 검정을 진행한다.\n",
            "\tLevene Result(F) : 0.727 \n",
            "\tp-value : 0.395\n",
            "\t결과: 두 모집단의 분산은 동일하지 않음을 가정하고, Mann Whitney U 검정을 진행한다.\n",
            "\n",
            "\tMWU-Statistics: 3976.500 \n",
            "\tp-value : 0.006\n",
            "\t결과: 귀무가설을 기각한다.\n",
            "\n",
            "\n",
            "- Y값이 PREVIEW_CAR_RENTAL_count_af일때\n",
            "\t\t(실험군 - 신뢰수준 1.0에서 기각 기록)\n",
            "\t두 모집단 모두 정규분포를 따르지 않음으로 가정하여, Levene 등분산 검정을 진행한다.\n",
            "\tLevene Result(F) : 2.301 \n",
            "\tp-value : 0.131\n",
            "\t결과: 두 모집단의 분산은 동일하지 않음을 가정하고, Mann Whitney U 검정을 진행한다.\n",
            "\n",
            "\tMWU-Statistics: 3756.000 \n",
            "\tp-value : 0.001\n",
            "\t결과: 귀무가설을 기각한다.\n",
            "\n",
            "\n",
            "- Y값이 rev_total_sum일때\n",
            "\t두 모집단 모두 정규분포를 따르지 않음으로 가정하여, Levene 등분산 검정을 진행한다.\n",
            "\tLevene Result(F) : 0.669 \n",
            "\tp-value : 0.414\n",
            "\t결과: 두 모집단의 분산은 동일하지 않음을 가정하고, Mann Whitney U 검정을 진행한다.\n",
            "\n",
            "\tMWU-Statistics: 4817.500 \n",
            "\tp-value : 0.328\n",
            "\t결과: 귀무가설을 기각하지 않는다.\n",
            "\n",
            "\n",
            "유의미한 차이를 보인 y지표 :  ['reserve_count', 'visit_day_count', 'PREVIEW_CAR_RENTAL_count_af']\n"
          ],
          "name": "stdout"
        },
        {
          "output_type": "stream",
          "text": [
            "/usr/local/lib/python3.6/dist-packages/scipy/stats/_distn_infrastructure.py:901: RuntimeWarning: invalid value encountered in greater\n",
            "  return (a < x) & (x < b)\n",
            "/usr/local/lib/python3.6/dist-packages/scipy/stats/_distn_infrastructure.py:901: RuntimeWarning: invalid value encountered in less\n",
            "  return (a < x) & (x < b)\n",
            "/usr/local/lib/python3.6/dist-packages/scipy/stats/_distn_infrastructure.py:1849: RuntimeWarning: invalid value encountered in greater_equal\n",
            "  cond2 = (x >= _b) & cond0\n",
            "/usr/local/lib/python3.6/dist-packages/scipy/stats/_distn_infrastructure.py:1937: RuntimeWarning: invalid value encountered in less_equal\n",
            "  cond2 = cond0 & (x <= _a)\n",
            "/usr/local/lib/python3.6/dist-packages/numpy/lib/function_base.py:3405: RuntimeWarning: Invalid value encountered in median\n",
            "  r = func(a, **kwargs)\n"
          ],
          "name": "stderr"
        }
      ]
    }
  ]
}